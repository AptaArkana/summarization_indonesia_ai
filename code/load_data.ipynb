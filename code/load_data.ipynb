{
 "cells": [
  {
   "cell_type": "code",
   "execution_count": 1,
   "metadata": {},
   "outputs": [],
   "source": [
    "import pandas as pd\n",
    "import json\n",
    "import os"
   ]
  },
  {
   "cell_type": "markdown",
   "metadata": {},
   "source": [
    "## Path canonical"
   ]
  },
  {
   "cell_type": "code",
   "execution_count": 2,
   "metadata": {},
   "outputs": [],
   "source": [
    "#data path\n",
    "data_test = '../liputan6_data/canonical/test/'\n",
    "data_dev = '../liputan6_data/canonical/dev/'\n",
    "data_train = '../liputan6_data/canonical/train/'"
   ]
  },
  {
   "cell_type": "markdown",
   "metadata": {},
   "source": [
    "## Fungsi load data"
   ]
  },
  {
   "cell_type": "code",
   "execution_count": 9,
   "metadata": {},
   "outputs": [],
   "source": [
    "def load_json_data(directory):\n",
    "    data = []\n",
    "\n",
    "    for file in os.listdir(directory):\n",
    "        filename = os.fsdecode(file)\n",
    "\n",
    "        if filename.endswith(\".json\"):\n",
    "            with open(os.path.join(directory, filename), 'r') as json_file:\n",
    "                json_data = json.load(json_file)\n",
    "                # Membuat dictionary sesuai dengan format yang diinginkan\n",
    "                entry = {\n",
    "                    'id': json_data.get('id', ''),\n",
    "                    'url': json_data.get('url', ''),\n",
    "                    'clean_article': json_data.get('clean_article', ''),\n",
    "                    'clean_summary': json_data.get('clean_summary', ''),\n",
    "                    'extractive_summary': json_data.get('extractive_summary', '')\n",
    "                }\n",
    "\n",
    "                data.append(entry)\n",
    "\n",
    "    # Membuat DataFrame dari list data\n",
    "    df = pd.DataFrame(data)\n",
    "    return df"
   ]
  },
  {
   "cell_type": "code",
   "execution_count": 10,
   "metadata": {},
   "outputs": [],
   "source": [
    "def convert_to_sentences(datas):\n",
    "\n",
    "    merged_data = [' '.join(sentence).replace(' ,', ',').replace(' .', '.') for sentence in datas]\n",
    "    \n",
    "    article = ' '.join(merged_data)\n",
    "\n",
    "    return article\n"
   ]
  },
  {
   "cell_type": "markdown",
   "metadata": {},
   "source": [
    "## load dataset"
   ]
  },
  {
   "cell_type": "code",
   "execution_count": 13,
   "metadata": {},
   "outputs": [
    {
     "data": {
      "text/html": [
       "<div>\n",
       "<style scoped>\n",
       "    .dataframe tbody tr th:only-of-type {\n",
       "        vertical-align: middle;\n",
       "    }\n",
       "\n",
       "    .dataframe tbody tr th {\n",
       "        vertical-align: top;\n",
       "    }\n",
       "\n",
       "    .dataframe thead th {\n",
       "        text-align: right;\n",
       "    }\n",
       "</style>\n",
       "<table border=\"1\" class=\"dataframe\">\n",
       "  <thead>\n",
       "    <tr style=\"text-align: right;\">\n",
       "      <th></th>\n",
       "      <th>id</th>\n",
       "      <th>url</th>\n",
       "      <th>clean_article</th>\n",
       "      <th>clean_summary</th>\n",
       "      <th>extractive_summary</th>\n",
       "    </tr>\n",
       "  </thead>\n",
       "  <tbody>\n",
       "    <tr>\n",
       "      <th>0</th>\n",
       "      <td>13019</td>\n",
       "      <td>https://www.liputan6.com/news/read/13019/kapol...</td>\n",
       "      <td>Liputan6. com, Jakarta : Kepolisian Daerah Ria...</td>\n",
       "      <td>Kapolda Riau baru Brigjen Pol. Johny Yodjana b...</td>\n",
       "      <td>[0, 4, 9]</td>\n",
       "    </tr>\n",
       "    <tr>\n",
       "      <th>1</th>\n",
       "      <td>13020</td>\n",
       "      <td>https://www.liputan6.com/news/read/13020/bi-di...</td>\n",
       "      <td>Liputan6. com, Jakarta : Bank Indonesia dinila...</td>\n",
       "      <td>Kendati Bank Sentral AS menurunkan suku bungan...</td>\n",
       "      <td>[0, 4]</td>\n",
       "    </tr>\n",
       "    <tr>\n",
       "      <th>2</th>\n",
       "      <td>13022</td>\n",
       "      <td>https://www.liputan6.com/news/read/13022/pemer...</td>\n",
       "      <td>Liputan6. com, Jakarta : Berbagai kendala meng...</td>\n",
       "      <td>Pemerintah bermaksud akan lebih mengandalkan s...</td>\n",
       "      <td>[0, 7]</td>\n",
       "    </tr>\n",
       "    <tr>\n",
       "      <th>3</th>\n",
       "      <td>13024</td>\n",
       "      <td>https://www.liputan6.com/news/read/13024/perub...</td>\n",
       "      <td>Liputan6. com, Jakarta : Penghapusan beberapa ...</td>\n",
       "      <td>Revisi Kepmennaker Nomor 78 Tahun 2001, dinila...</td>\n",
       "      <td>[0, 8]</td>\n",
       "    </tr>\n",
       "    <tr>\n",
       "      <th>4</th>\n",
       "      <td>13025</td>\n",
       "      <td>https://www.liputan6.com/news/read/13025/puluh...</td>\n",
       "      <td>Liputan6. com, Jakarta : Operasi Sadar Jaya ya...</td>\n",
       "      <td>Polisi menangkap 32 pengunjung Diskotik Mileni...</td>\n",
       "      <td>[2, 3]</td>\n",
       "    </tr>\n",
       "  </tbody>\n",
       "</table>\n",
       "</div>"
      ],
      "text/plain": [
       "      id                                                url  \\\n",
       "0  13019  https://www.liputan6.com/news/read/13019/kapol...   \n",
       "1  13020  https://www.liputan6.com/news/read/13020/bi-di...   \n",
       "2  13022  https://www.liputan6.com/news/read/13022/pemer...   \n",
       "3  13024  https://www.liputan6.com/news/read/13024/perub...   \n",
       "4  13025  https://www.liputan6.com/news/read/13025/puluh...   \n",
       "\n",
       "                                       clean_article  \\\n",
       "0  Liputan6. com, Jakarta : Kepolisian Daerah Ria...   \n",
       "1  Liputan6. com, Jakarta : Bank Indonesia dinila...   \n",
       "2  Liputan6. com, Jakarta : Berbagai kendala meng...   \n",
       "3  Liputan6. com, Jakarta : Penghapusan beberapa ...   \n",
       "4  Liputan6. com, Jakarta : Operasi Sadar Jaya ya...   \n",
       "\n",
       "                                       clean_summary extractive_summary  \n",
       "0  Kapolda Riau baru Brigjen Pol. Johny Yodjana b...          [0, 4, 9]  \n",
       "1  Kendati Bank Sentral AS menurunkan suku bungan...             [0, 4]  \n",
       "2  Pemerintah bermaksud akan lebih mengandalkan s...             [0, 7]  \n",
       "3  Revisi Kepmennaker Nomor 78 Tahun 2001, dinila...             [0, 8]  \n",
       "4  Polisi menangkap 32 pengunjung Diskotik Mileni...             [2, 3]  "
      ]
     },
     "execution_count": 13,
     "metadata": {},
     "output_type": "execute_result"
    }
   ],
   "source": [
    "# data test\n",
    "df_test = load_json_data(data_test)\n",
    "df_test['clean_article'] = df_test['clean_article'].apply(convert_to_sentences)\n",
    "df_test['clean_summary'] = df_test['clean_summary'].apply(convert_to_sentences)\n",
    "\n",
    "df_test.head()"
   ]
  },
  {
   "cell_type": "code",
   "execution_count": 14,
   "metadata": {},
   "outputs": [
    {
     "data": {
      "text/html": [
       "<div>\n",
       "<style scoped>\n",
       "    .dataframe tbody tr th:only-of-type {\n",
       "        vertical-align: middle;\n",
       "    }\n",
       "\n",
       "    .dataframe tbody tr th {\n",
       "        vertical-align: top;\n",
       "    }\n",
       "\n",
       "    .dataframe thead th {\n",
       "        text-align: right;\n",
       "    }\n",
       "</style>\n",
       "<table border=\"1\" class=\"dataframe\">\n",
       "  <thead>\n",
       "    <tr style=\"text-align: right;\">\n",
       "      <th></th>\n",
       "      <th>id</th>\n",
       "      <th>url</th>\n",
       "      <th>clean_article</th>\n",
       "      <th>clean_summary</th>\n",
       "      <th>extractive_summary</th>\n",
       "    </tr>\n",
       "  </thead>\n",
       "  <tbody>\n",
       "    <tr>\n",
       "      <th>0</th>\n",
       "      <td>1</td>\n",
       "      <td>https://www.liputan6.com/news/read/1/batas-pen...</td>\n",
       "      <td>Liputan6. com, Jakarta : Pemerintah masih memb...</td>\n",
       "      <td>Pemerintah memberikan tenggat 14 hari kepada p...</td>\n",
       "      <td>[1, 8]</td>\n",
       "    </tr>\n",
       "    <tr>\n",
       "      <th>1</th>\n",
       "      <td>10</td>\n",
       "      <td>https://www.liputan6.com/news/read/10/belasan-...</td>\n",
       "      <td>Liputan6. com, Jakarta : Diperkirakan 11 juta ...</td>\n",
       "      <td>Satu dari 20 orang Indonesia diperkirakan meng...</td>\n",
       "      <td>[2, 4]</td>\n",
       "    </tr>\n",
       "    <tr>\n",
       "      <th>2</th>\n",
       "      <td>1000</td>\n",
       "      <td>https://www.liputan6.com/news/read/1000/lagi--...</td>\n",
       "      <td>Liputan6. com, Banda Aceh : Aksi peledakan kan...</td>\n",
       "      <td>Peledakan bom kembali terjadi di Aceh. Kali in...</td>\n",
       "      <td>[2, 5]</td>\n",
       "    </tr>\n",
       "    <tr>\n",
       "      <th>3</th>\n",
       "      <td>10000</td>\n",
       "      <td>https://www.liputan6.com/news/read/10000/penge...</td>\n",
       "      <td>Liputan6. com, Surabaya : Petugas Kepolisian R...</td>\n",
       "      <td>Polres Surabaya Timur menangkap seorang penged...</td>\n",
       "      <td>[0, 5]</td>\n",
       "    </tr>\n",
       "    <tr>\n",
       "      <th>4</th>\n",
       "      <td>10001</td>\n",
       "      <td>https://www.liputan6.com/news/read/10001/menye...</td>\n",
       "      <td>Liputan6. com, Jakarta : Yogyakarta dan Bali m...</td>\n",
       "      <td>Lima seniman Yogyakarta dan Bali menggelar pam...</td>\n",
       "      <td>[0, 2]</td>\n",
       "    </tr>\n",
       "  </tbody>\n",
       "</table>\n",
       "</div>"
      ],
      "text/plain": [
       "      id                                                url  \\\n",
       "0      1  https://www.liputan6.com/news/read/1/batas-pen...   \n",
       "1     10  https://www.liputan6.com/news/read/10/belasan-...   \n",
       "2   1000  https://www.liputan6.com/news/read/1000/lagi--...   \n",
       "3  10000  https://www.liputan6.com/news/read/10000/penge...   \n",
       "4  10001  https://www.liputan6.com/news/read/10001/menye...   \n",
       "\n",
       "                                       clean_article  \\\n",
       "0  Liputan6. com, Jakarta : Pemerintah masih memb...   \n",
       "1  Liputan6. com, Jakarta : Diperkirakan 11 juta ...   \n",
       "2  Liputan6. com, Banda Aceh : Aksi peledakan kan...   \n",
       "3  Liputan6. com, Surabaya : Petugas Kepolisian R...   \n",
       "4  Liputan6. com, Jakarta : Yogyakarta dan Bali m...   \n",
       "\n",
       "                                       clean_summary extractive_summary  \n",
       "0  Pemerintah memberikan tenggat 14 hari kepada p...             [1, 8]  \n",
       "1  Satu dari 20 orang Indonesia diperkirakan meng...             [2, 4]  \n",
       "2  Peledakan bom kembali terjadi di Aceh. Kali in...             [2, 5]  \n",
       "3  Polres Surabaya Timur menangkap seorang penged...             [0, 5]  \n",
       "4  Lima seniman Yogyakarta dan Bali menggelar pam...             [0, 2]  "
      ]
     },
     "execution_count": 14,
     "metadata": {},
     "output_type": "execute_result"
    }
   ],
   "source": [
    "# data test\n",
    "df_dev = load_json_data(data_dev)\n",
    "df_dev['clean_article'] = df_dev['clean_article'].apply(convert_to_sentences)\n",
    "df_dev['clean_summary'] = df_dev['clean_summary'].apply(convert_to_sentences)\n",
    "\n",
    "df_dev.head()"
   ]
  },
  {
   "cell_type": "code",
   "execution_count": 15,
   "metadata": {},
   "outputs": [],
   "source": [
    "# data test\n",
    "df_train = load_json_data(data_train)\n",
    "df_train['clean_article'] = df_train['clean_article'].apply(convert_to_sentences)\n",
    "df_train['clean_summary'] = df_train['clean_summary'].apply(convert_to_sentences)\n",
    "\n",
    "df_train.head()"
   ]
  },
  {
   "cell_type": "code",
   "execution_count": null,
   "metadata": {},
   "outputs": [],
   "source": [
    "df_test.to_csv('../data/df_test.csv', index=False)\n",
    "df_dev.to_csv('../data/df_dev.csv', index=False)\n",
    "df_train.to_csv('../data/df_train.csv', index=False)"
   ]
  },
  {
   "cell_type": "code",
   "execution_count": null,
   "metadata": {},
   "outputs": [],
   "source": []
  }
 ],
 "metadata": {
  "kernelspec": {
   "display_name": "Python 3",
   "language": "python",
   "name": "python3"
  },
  "language_info": {
   "codemirror_mode": {
    "name": "ipython",
    "version": 3
   },
   "file_extension": ".py",
   "mimetype": "text/x-python",
   "name": "python",
   "nbconvert_exporter": "python",
   "pygments_lexer": "ipython3",
   "version": "3.10.7"
  }
 },
 "nbformat": 4,
 "nbformat_minor": 2
}
